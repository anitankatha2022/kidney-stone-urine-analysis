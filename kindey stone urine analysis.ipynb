{
 "cells": [
  {
   "cell_type": "code",
   "execution_count": 1,
   "id": "25f6a24f",
   "metadata": {},
   "outputs": [],
   "source": [
    "import pandas as pd\n",
    "import numpy as np\n",
    "import matplotlib.pyplot as plt\n",
    "import seaborn as sns\n",
    "import warnings\n",
    "warnings.filterwarnings('ignore')\n",
    "from sklearn.base import clone\n",
    "from sklearn.preprocessing import MinMaxScaler\n",
    "from sklearn.model_selection import train_test_split\n",
    "from sklearn.ensemble import  RandomForestRegressor\n",
    "from sklearn.metrics import classification_report\n",
    "from sklearn.metrics import accuracy_score, recall_score, precision_score, mean_squared_error, mean_absolute_error\n",
    "\n",
    "sns.set(style='darkgrid')\n",
    "plt.rcParams[\"figure.figsize\"] = (15,5)"
   ]
  },
  {
   "cell_type": "code",
   "execution_count": 2,
   "id": "aab802ee",
   "metadata": {},
   "outputs": [
    {
     "data": {
      "text/html": [
       "<div>\n",
       "<style scoped>\n",
       "    .dataframe tbody tr th:only-of-type {\n",
       "        vertical-align: middle;\n",
       "    }\n",
       "\n",
       "    .dataframe tbody tr th {\n",
       "        vertical-align: top;\n",
       "    }\n",
       "\n",
       "    .dataframe thead th {\n",
       "        text-align: right;\n",
       "    }\n",
       "</style>\n",
       "<table border=\"1\" class=\"dataframe\">\n",
       "  <thead>\n",
       "    <tr style=\"text-align: right;\">\n",
       "      <th></th>\n",
       "      <th>gravity</th>\n",
       "      <th>ph</th>\n",
       "      <th>osmo</th>\n",
       "      <th>cond</th>\n",
       "      <th>urea</th>\n",
       "      <th>calc</th>\n",
       "      <th>target</th>\n",
       "    </tr>\n",
       "  </thead>\n",
       "  <tbody>\n",
       "    <tr>\n",
       "      <th>0</th>\n",
       "      <td>1.021</td>\n",
       "      <td>4.91</td>\n",
       "      <td>725</td>\n",
       "      <td>14.0</td>\n",
       "      <td>443</td>\n",
       "      <td>2.45</td>\n",
       "      <td>0</td>\n",
       "    </tr>\n",
       "    <tr>\n",
       "      <th>1</th>\n",
       "      <td>1.017</td>\n",
       "      <td>5.74</td>\n",
       "      <td>577</td>\n",
       "      <td>20.0</td>\n",
       "      <td>296</td>\n",
       "      <td>4.49</td>\n",
       "      <td>0</td>\n",
       "    </tr>\n",
       "    <tr>\n",
       "      <th>2</th>\n",
       "      <td>1.008</td>\n",
       "      <td>7.20</td>\n",
       "      <td>321</td>\n",
       "      <td>14.9</td>\n",
       "      <td>101</td>\n",
       "      <td>2.36</td>\n",
       "      <td>0</td>\n",
       "    </tr>\n",
       "    <tr>\n",
       "      <th>3</th>\n",
       "      <td>1.011</td>\n",
       "      <td>5.51</td>\n",
       "      <td>408</td>\n",
       "      <td>12.6</td>\n",
       "      <td>224</td>\n",
       "      <td>2.15</td>\n",
       "      <td>0</td>\n",
       "    </tr>\n",
       "    <tr>\n",
       "      <th>4</th>\n",
       "      <td>1.005</td>\n",
       "      <td>6.52</td>\n",
       "      <td>187</td>\n",
       "      <td>7.5</td>\n",
       "      <td>91</td>\n",
       "      <td>1.16</td>\n",
       "      <td>0</td>\n",
       "    </tr>\n",
       "  </tbody>\n",
       "</table>\n",
       "</div>"
      ],
      "text/plain": [
       "   gravity    ph  osmo  cond  urea  calc  target\n",
       "0    1.021  4.91   725  14.0   443  2.45       0\n",
       "1    1.017  5.74   577  20.0   296  4.49       0\n",
       "2    1.008  7.20   321  14.9   101  2.36       0\n",
       "3    1.011  5.51   408  12.6   224  2.15       0\n",
       "4    1.005  6.52   187   7.5    91  1.16       0"
      ]
     },
     "execution_count": 2,
     "metadata": {},
     "output_type": "execute_result"
    }
   ],
   "source": [
    "dataset=pd.read_csv('C:\\\\Users\\\\USER\\\\Desktop\\\\KIBV\\\\kindey stone urine analysis.csv')\n",
    "dataset.head(5)"
   ]
  },
  {
   "cell_type": "code",
   "execution_count": 3,
   "id": "39f825f5",
   "metadata": {},
   "outputs": [
    {
     "data": {
      "text/plain": [
       "(79, 7)"
      ]
     },
     "execution_count": 3,
     "metadata": {},
     "output_type": "execute_result"
    }
   ],
   "source": [
    "dataset.shape"
   ]
  },
  {
   "cell_type": "code",
   "execution_count": 4,
   "id": "ecece116",
   "metadata": {},
   "outputs": [
    {
     "data": {
      "text/plain": [
       "gravity    float64\n",
       "ph         float64\n",
       "osmo         int64\n",
       "cond       float64\n",
       "urea         int64\n",
       "calc       float64\n",
       "target       int64\n",
       "dtype: object"
      ]
     },
     "execution_count": 4,
     "metadata": {},
     "output_type": "execute_result"
    }
   ],
   "source": [
    "dataset.dtypes"
   ]
  },
  {
   "cell_type": "code",
   "execution_count": 6,
   "id": "bea878a3",
   "metadata": {},
   "outputs": [
    {
     "data": {
      "text/plain": [
       "gravity    0\n",
       "ph         0\n",
       "osmo       0\n",
       "cond       0\n",
       "urea       0\n",
       "calc       0\n",
       "target     0\n",
       "dtype: int64"
      ]
     },
     "execution_count": 6,
     "metadata": {},
     "output_type": "execute_result"
    }
   ],
   "source": [
    "dataset.isnull().sum()"
   ]
  },
  {
   "cell_type": "code",
   "execution_count": 7,
   "id": "4b106937",
   "metadata": {},
   "outputs": [
    {
     "data": {
      "text/html": [
       "<div>\n",
       "<style scoped>\n",
       "    .dataframe tbody tr th:only-of-type {\n",
       "        vertical-align: middle;\n",
       "    }\n",
       "\n",
       "    .dataframe tbody tr th {\n",
       "        vertical-align: top;\n",
       "    }\n",
       "\n",
       "    .dataframe thead th {\n",
       "        text-align: right;\n",
       "    }\n",
       "</style>\n",
       "<table border=\"1\" class=\"dataframe\">\n",
       "  <thead>\n",
       "    <tr style=\"text-align: right;\">\n",
       "      <th></th>\n",
       "      <th>gravity</th>\n",
       "      <th>ph</th>\n",
       "      <th>osmo</th>\n",
       "      <th>cond</th>\n",
       "      <th>urea</th>\n",
       "      <th>calc</th>\n",
       "      <th>target</th>\n",
       "    </tr>\n",
       "  </thead>\n",
       "  <tbody>\n",
       "    <tr>\n",
       "      <th>count</th>\n",
       "      <td>79.000000</td>\n",
       "      <td>79.000000</td>\n",
       "      <td>79.000000</td>\n",
       "      <td>79.000000</td>\n",
       "      <td>79.000000</td>\n",
       "      <td>79.000000</td>\n",
       "      <td>79.000000</td>\n",
       "    </tr>\n",
       "    <tr>\n",
       "      <th>mean</th>\n",
       "      <td>1.018114</td>\n",
       "      <td>6.028481</td>\n",
       "      <td>612.848101</td>\n",
       "      <td>20.813924</td>\n",
       "      <td>266.405063</td>\n",
       "      <td>4.138987</td>\n",
       "      <td>0.430380</td>\n",
       "    </tr>\n",
       "    <tr>\n",
       "      <th>std</th>\n",
       "      <td>0.007239</td>\n",
       "      <td>0.724307</td>\n",
       "      <td>237.514755</td>\n",
       "      <td>7.938994</td>\n",
       "      <td>131.254550</td>\n",
       "      <td>3.260051</td>\n",
       "      <td>0.498293</td>\n",
       "    </tr>\n",
       "    <tr>\n",
       "      <th>min</th>\n",
       "      <td>1.005000</td>\n",
       "      <td>4.760000</td>\n",
       "      <td>187.000000</td>\n",
       "      <td>5.100000</td>\n",
       "      <td>10.000000</td>\n",
       "      <td>0.170000</td>\n",
       "      <td>0.000000</td>\n",
       "    </tr>\n",
       "    <tr>\n",
       "      <th>25%</th>\n",
       "      <td>1.012000</td>\n",
       "      <td>5.530000</td>\n",
       "      <td>413.000000</td>\n",
       "      <td>14.150000</td>\n",
       "      <td>160.000000</td>\n",
       "      <td>1.460000</td>\n",
       "      <td>0.000000</td>\n",
       "    </tr>\n",
       "    <tr>\n",
       "      <th>50%</th>\n",
       "      <td>1.018000</td>\n",
       "      <td>5.940000</td>\n",
       "      <td>594.000000</td>\n",
       "      <td>21.400000</td>\n",
       "      <td>260.000000</td>\n",
       "      <td>3.160000</td>\n",
       "      <td>0.000000</td>\n",
       "    </tr>\n",
       "    <tr>\n",
       "      <th>75%</th>\n",
       "      <td>1.023500</td>\n",
       "      <td>6.385000</td>\n",
       "      <td>792.000000</td>\n",
       "      <td>26.550000</td>\n",
       "      <td>372.000000</td>\n",
       "      <td>5.930000</td>\n",
       "      <td>1.000000</td>\n",
       "    </tr>\n",
       "    <tr>\n",
       "      <th>max</th>\n",
       "      <td>1.040000</td>\n",
       "      <td>7.940000</td>\n",
       "      <td>1236.000000</td>\n",
       "      <td>38.000000</td>\n",
       "      <td>620.000000</td>\n",
       "      <td>14.340000</td>\n",
       "      <td>1.000000</td>\n",
       "    </tr>\n",
       "  </tbody>\n",
       "</table>\n",
       "</div>"
      ],
      "text/plain": [
       "         gravity         ph         osmo       cond        urea       calc  \\\n",
       "count  79.000000  79.000000    79.000000  79.000000   79.000000  79.000000   \n",
       "mean    1.018114   6.028481   612.848101  20.813924  266.405063   4.138987   \n",
       "std     0.007239   0.724307   237.514755   7.938994  131.254550   3.260051   \n",
       "min     1.005000   4.760000   187.000000   5.100000   10.000000   0.170000   \n",
       "25%     1.012000   5.530000   413.000000  14.150000  160.000000   1.460000   \n",
       "50%     1.018000   5.940000   594.000000  21.400000  260.000000   3.160000   \n",
       "75%     1.023500   6.385000   792.000000  26.550000  372.000000   5.930000   \n",
       "max     1.040000   7.940000  1236.000000  38.000000  620.000000  14.340000   \n",
       "\n",
       "          target  \n",
       "count  79.000000  \n",
       "mean    0.430380  \n",
       "std     0.498293  \n",
       "min     0.000000  \n",
       "25%     0.000000  \n",
       "50%     0.000000  \n",
       "75%     1.000000  \n",
       "max     1.000000  "
      ]
     },
     "execution_count": 7,
     "metadata": {},
     "output_type": "execute_result"
    }
   ],
   "source": [
    "dataset.describe()"
   ]
  },
  {
   "cell_type": "code",
   "execution_count": 8,
   "id": "dcd1122c",
   "metadata": {},
   "outputs": [
    {
     "name": "stdout",
     "output_type": "stream",
     "text": [
      "<class 'pandas.core.frame.DataFrame'>\n",
      "RangeIndex: 79 entries, 0 to 78\n",
      "Data columns (total 7 columns):\n",
      " #   Column   Non-Null Count  Dtype  \n",
      "---  ------   --------------  -----  \n",
      " 0   gravity  79 non-null     float64\n",
      " 1   ph       79 non-null     float64\n",
      " 2   osmo     79 non-null     int64  \n",
      " 3   cond     79 non-null     float64\n",
      " 4   urea     79 non-null     int64  \n",
      " 5   calc     79 non-null     float64\n",
      " 6   target   79 non-null     int64  \n",
      "dtypes: float64(4), int64(3)\n",
      "memory usage: 4.4 KB\n"
     ]
    }
   ],
   "source": [
    "dataset.info()"
   ]
  },
  {
   "cell_type": "code",
   "execution_count": 9,
   "id": "f47ebb17",
   "metadata": {},
   "outputs": [
    {
     "data": {
      "text/html": [
       "<div>\n",
       "<style scoped>\n",
       "    .dataframe tbody tr th:only-of-type {\n",
       "        vertical-align: middle;\n",
       "    }\n",
       "\n",
       "    .dataframe tbody tr th {\n",
       "        vertical-align: top;\n",
       "    }\n",
       "\n",
       "    .dataframe thead th {\n",
       "        text-align: right;\n",
       "    }\n",
       "</style>\n",
       "<table border=\"1\" class=\"dataframe\">\n",
       "  <thead>\n",
       "    <tr style=\"text-align: right;\">\n",
       "      <th></th>\n",
       "      <th>gravity</th>\n",
       "      <th>ph</th>\n",
       "      <th>osmo</th>\n",
       "      <th>cond</th>\n",
       "      <th>urea</th>\n",
       "      <th>calc</th>\n",
       "      <th>target</th>\n",
       "    </tr>\n",
       "  </thead>\n",
       "  <tbody>\n",
       "    <tr>\n",
       "      <th>gravity</th>\n",
       "      <td>1.000000</td>\n",
       "      <td>-0.253340</td>\n",
       "      <td>0.861466</td>\n",
       "      <td>0.559064</td>\n",
       "      <td>0.823477</td>\n",
       "      <td>0.525699</td>\n",
       "      <td>0.419818</td>\n",
       "    </tr>\n",
       "    <tr>\n",
       "      <th>ph</th>\n",
       "      <td>-0.253340</td>\n",
       "      <td>1.000000</td>\n",
       "      <td>-0.238841</td>\n",
       "      <td>-0.097680</td>\n",
       "      <td>-0.275557</td>\n",
       "      <td>-0.119488</td>\n",
       "      <td>-0.112191</td>\n",
       "    </tr>\n",
       "    <tr>\n",
       "      <th>osmo</th>\n",
       "      <td>0.861466</td>\n",
       "      <td>-0.238841</td>\n",
       "      <td>1.000000</td>\n",
       "      <td>0.812780</td>\n",
       "      <td>0.871178</td>\n",
       "      <td>0.522979</td>\n",
       "      <td>0.231834</td>\n",
       "    </tr>\n",
       "    <tr>\n",
       "      <th>cond</th>\n",
       "      <td>0.559064</td>\n",
       "      <td>-0.097680</td>\n",
       "      <td>0.812780</td>\n",
       "      <td>1.000000</td>\n",
       "      <td>0.495405</td>\n",
       "      <td>0.351030</td>\n",
       "      <td>0.059717</td>\n",
       "    </tr>\n",
       "    <tr>\n",
       "      <th>urea</th>\n",
       "      <td>0.823477</td>\n",
       "      <td>-0.275557</td>\n",
       "      <td>0.871178</td>\n",
       "      <td>0.495405</td>\n",
       "      <td>1.000000</td>\n",
       "      <td>0.502327</td>\n",
       "      <td>0.258402</td>\n",
       "    </tr>\n",
       "    <tr>\n",
       "      <th>calc</th>\n",
       "      <td>0.525699</td>\n",
       "      <td>-0.119488</td>\n",
       "      <td>0.522979</td>\n",
       "      <td>0.351030</td>\n",
       "      <td>0.502327</td>\n",
       "      <td>1.000000</td>\n",
       "      <td>0.537728</td>\n",
       "    </tr>\n",
       "    <tr>\n",
       "      <th>target</th>\n",
       "      <td>0.419818</td>\n",
       "      <td>-0.112191</td>\n",
       "      <td>0.231834</td>\n",
       "      <td>0.059717</td>\n",
       "      <td>0.258402</td>\n",
       "      <td>0.537728</td>\n",
       "      <td>1.000000</td>\n",
       "    </tr>\n",
       "  </tbody>\n",
       "</table>\n",
       "</div>"
      ],
      "text/plain": [
       "          gravity        ph      osmo      cond      urea      calc    target\n",
       "gravity  1.000000 -0.253340  0.861466  0.559064  0.823477  0.525699  0.419818\n",
       "ph      -0.253340  1.000000 -0.238841 -0.097680 -0.275557 -0.119488 -0.112191\n",
       "osmo     0.861466 -0.238841  1.000000  0.812780  0.871178  0.522979  0.231834\n",
       "cond     0.559064 -0.097680  0.812780  1.000000  0.495405  0.351030  0.059717\n",
       "urea     0.823477 -0.275557  0.871178  0.495405  1.000000  0.502327  0.258402\n",
       "calc     0.525699 -0.119488  0.522979  0.351030  0.502327  1.000000  0.537728\n",
       "target   0.419818 -0.112191  0.231834  0.059717  0.258402  0.537728  1.000000"
      ]
     },
     "execution_count": 9,
     "metadata": {},
     "output_type": "execute_result"
    }
   ],
   "source": [
    "dataset.corr()"
   ]
  },
  {
   "cell_type": "code",
   "execution_count": 10,
   "id": "17c99733",
   "metadata": {},
   "outputs": [
    {
     "data": {
      "text/plain": [
       "<AxesSubplot:>"
      ]
     },
     "execution_count": 10,
     "metadata": {},
     "output_type": "execute_result"
    },
    {
     "data": {
      "image/png": "[encoded data removed]",
      "text/plain": [
       "<Figure size 1080x360 with 2 Axes>"
      ]
     },
     "metadata": {},
     "output_type": "display_data"
    }
   ],
   "source": [
    "sns.heatmap(dataset.corr(),annot=True,cmap='crest')"
   ]
  },
  {
   "cell_type": "code",
   "execution_count": 13,
   "id": "35953c37",
   "metadata": {},
   "outputs": [
    {
     "data": {
      "image/png": "[encoded data removed]",
      "text/plain": [
       "<Figure size 1080x360 with 1 Axes>"
      ]
     },
     "metadata": {},
     "output_type": "display_data"
    }
   ],
   "source": [
    "sns.countplot(\n",
    "  x='gravity',\n",
    "  data=dataset\n",
    ");"
   ]
  },
  {
   "cell_type": "code",
   "execution_count": 14,
   "id": "99762a0c",
   "metadata": {},
   "outputs": [
    {
     "data": {
      "image/png": "[encoded data removed]",
      "text/plain": [
       "<Figure size 1080x360 with 1 Axes>"
      ]
     },
     "metadata": {},
     "output_type": "display_data"
    }
   ],
   "source": [
    "sns.countplot(\n",
    "  x='target',\n",
    "  data=dataset\n",
    ");"
   ]
  },
  {
   "cell_type": "code",
   "execution_count": 15,
   "id": "a5514a4f",
   "metadata": {},
   "outputs": [],
   "source": [
    "cols = dataset.columns"
   ]
  },
  {
   "cell_type": "code",
   "execution_count": 26,
   "id": "e97121fc",
   "metadata": {},
   "outputs": [],
   "source": [
    "#put the values in the same scale.\n",
    "scaler = MinMaxScaler()\n",
    "X = scaler.fit_transform(dataset)\n",
    "X = pd.DataFrame(X, columns = cols)\n",
    "y = dataset['gravity']"
   ]
  },
  {
   "cell_type": "code",
   "execution_count": 27,
   "id": "39664c05",
   "metadata": {},
   "outputs": [
    {
     "data": {
      "text/html": [
       "<style>#sk-container-id-2 {color: black;background-color: white;}#sk-container-id-2 pre{padding: 0;}#sk-container-id-2 div.sk-toggleable {background-color: white;}#sk-container-id-2 label.sk-toggleable__label {cursor: pointer;display: block;width: 100%;margin-bottom: 0;padding: 0.3em;box-sizing: border-box;text-align: center;}#sk-container-id-2 label.sk-toggleable__label-arrow:before {content: \"▸\";float: left;margin-right: 0.25em;color: #696969;}#sk-container-id-2 label.sk-toggleable__label-arrow:hover:before {color: black;}#sk-container-id-2 div.sk-estimator:hover label.sk-toggleable__label-arrow:before {color: black;}#sk-container-id-2 div.sk-toggleable__content {max-height: 0;max-width: 0;overflow: hidden;text-align: left;background-color: #f0f8ff;}#sk-container-id-2 div.sk-toggleable__content pre {margin: 0.2em;color: black;border-radius: 0.25em;background-color: #f0f8ff;}#sk-container-id-2 input.sk-toggleable__control:checked~div.sk-toggleable__content {max-height: 200px;max-width: 100%;overflow: auto;}#sk-container-id-2 input.sk-toggleable__control:checked~label.sk-toggleable__label-arrow:before {content: \"▾\";}#sk-container-id-2 div.sk-estimator input.sk-toggleable__control:checked~label.sk-toggleable__label {background-color: #d4ebff;}#sk-container-id-2 div.sk-label input.sk-toggleable__control:checked~label.sk-toggleable__label {background-color: #d4ebff;}#sk-container-id-2 input.sk-hidden--visually {border: 0;clip: rect(1px 1px 1px 1px);clip: rect(1px, 1px, 1px, 1px);height: 1px;margin: -1px;overflow: hidden;padding: 0;position: absolute;width: 1px;}#sk-container-id-2 div.sk-estimator {font-family: monospace;background-color: #f0f8ff;border: 1px dotted black;border-radius: 0.25em;box-sizing: border-box;margin-bottom: 0.5em;}#sk-container-id-2 div.sk-estimator:hover {background-color: #d4ebff;}#sk-container-id-2 div.sk-parallel-item::after {content: \"\";width: 100%;border-bottom: 1px solid gray;flex-grow: 1;}#sk-container-id-2 div.sk-label:hover label.sk-toggleable__label {background-color: #d4ebff;}#sk-container-id-2 div.sk-serial::before {content: \"\";position: absolute;border-left: 1px solid gray;box-sizing: border-box;top: 0;bottom: 0;left: 50%;z-index: 0;}#sk-container-id-2 div.sk-serial {display: flex;flex-direction: column;align-items: center;background-color: white;padding-right: 0.2em;padding-left: 0.2em;position: relative;}#sk-container-id-2 div.sk-item {position: relative;z-index: 1;}#sk-container-id-2 div.sk-parallel {display: flex;align-items: stretch;justify-content: center;background-color: white;position: relative;}#sk-container-id-2 div.sk-item::before, #sk-container-id-2 div.sk-parallel-item::before {content: \"\";position: absolute;border-left: 1px solid gray;box-sizing: border-box;top: 0;bottom: 0;left: 50%;z-index: -1;}#sk-container-id-2 div.sk-parallel-item {display: flex;flex-direction: column;z-index: 1;position: relative;background-color: white;}#sk-container-id-2 div.sk-parallel-item:first-child::after {align-self: flex-end;width: 50%;}#sk-container-id-2 div.sk-parallel-item:last-child::after {align-self: flex-start;width: 50%;}#sk-container-id-2 div.sk-parallel-item:only-child::after {width: 0;}#sk-container-id-2 div.sk-dashed-wrapped {border: 1px dashed gray;margin: 0 0.4em 0.5em 0.4em;box-sizing: border-box;padding-bottom: 0.4em;background-color: white;}#sk-container-id-2 div.sk-label label {font-family: monospace;font-weight: bold;display: inline-block;line-height: 1.2em;}#sk-container-id-2 div.sk-label-container {text-align: center;}#sk-container-id-2 div.sk-container {/* jupyter's `normalize.less` sets `[hidden] { display: none; }` but bootstrap.min.css set `[hidden] { display: none !important; }` so we also need the `!important` here to be able to override the default hidden behavior on the sphinx rendered scikit-learn.org. See: https://github.com/scikit-learn/scikit-learn/issues/21755 */display: inline-block !important;position: relative;}#sk-container-id-2 div.sk-text-repr-fallback {display: none;}</style><div id=\"sk-container-id-2\" class=\"sk-top-container\"><div class=\"sk-text-repr-fallback\"><pre>RandomForestRegressor()</pre><b>In a Jupyter environment, please rerun this cell to show the HTML representation or trust the notebook. <br />On GitHub, the HTML representation is unable to render, please try loading this page with nbviewer.org.</b></div><div class=\"sk-container\" hidden><div class=\"sk-item\"><div class=\"sk-estimator sk-toggleable\"><input class=\"sk-toggleable__control sk-hidden--visually\" id=\"sk-estimator-id-2\" type=\"checkbox\" checked><label for=\"sk-estimator-id-2\" class=\"sk-toggleable__label sk-toggleable__label-arrow\">RandomForestRegressor</label><div class=\"sk-toggleable__content\"><pre>RandomForestRegressor()</pre></div></div></div></div></div>"
      ],
      "text/plain": [
       "RandomForestRegressor()"
      ]
     },
     "execution_count": 27,
     "metadata": {},
     "output_type": "execute_result"
    }
   ],
   "source": [
    "X_train_feat, X_test_feat, y_train_feat, y_test_feat = train_test_split(X, y, test_size = 0.2)\n",
    "rf = RandomForestRegressor()\n",
    "rf.fit(X_train_feat, y_train_feat)"
   ]
  },
  {
   "cell_type": "code",
   "execution_count": 28,
   "id": "415bed69",
   "metadata": {},
   "outputs": [],
   "source": [
    "def imp_dataset(column_names, importances):\n",
    "  dataset = pd.DataFrame({'feature': column_names,\n",
    "                     'feature_importance': importances}).sort_values('feature_importance', ascending = False).reset_index(drop = True)\n",
    "  return dataset"
   ]
  },
  {
   "cell_type": "code",
   "execution_count": 29,
   "id": "888fc398",
   "metadata": {},
   "outputs": [],
   "source": [
    "def drop_col_feat_imp(model, X_train_feat, y_train_feat, random_state = 42):\n",
    "    \n",
    "    # clone the model to have the exact same specification as the one initially trained\n",
    "    model_clone = clone(model)\n",
    "    # set random_state for comparability\n",
    "    model_clone.random_state = random_state\n",
    "    # training and scoring the benchmark model\n",
    "    model_clone.fit(X_train_feat, y_train_feat)\n",
    "    benchmark_score = model_clone.score(X_train_feat, y_train_feat)\n",
    "    # list for storing feature importances\n",
    "    importances = []\n",
    "       # iterating over all columns and storing feature importance (difference between benchmark and new model)\n",
    "    for col in X_train_feat.columns:\n",
    "        model_clone = clone(model)\n",
    "        model_clone.random_state = random_state\n",
    "        model_clone.fit(X_train_feat.drop(col, axis = 1), y_train_feat)\n",
    "        drop_col_score = model_clone.score(X_train_feat.drop(col, axis = 1), y_train_feat)\n",
    "        importances.append(benchmark_score - drop_col_score)\n",
    "    \n",
    "    importances_dataset = imp_dataset(X_train_feat.columns, importances)\n",
    "    return importances_dataset"
   ]
  },
  {
   "cell_type": "code",
   "execution_count": 30,
   "id": "512f4647",
   "metadata": {},
   "outputs": [
    {
     "data": {
      "image/png": "[encoded data removed]",
      "text/plain": [
       "<Figure size 1080x432 with 1 Axes>"
      ]
     },
     "metadata": {},
     "output_type": "display_data"
    }
   ],
   "source": [
    "feat = drop_col_feat_imp(rf, X_train_feat, y_train_feat)\n",
    "plt.figure(figsize=(15,6))\n",
    "sns.barplot(data=feat, y='feature', x='feature_importance');"
   ]
  },
  {
   "cell_type": "code",
   "execution_count": 32,
   "id": "be40ac70",
   "metadata": {},
   "outputs": [
    {
     "data": {
      "text/plain": [
       "array([1.01702, 1.00813, 1.01047, 1.01147, 1.02652, 1.02828, 1.01783,\n",
       "       1.02868, 1.01151, 1.02181, 1.01221, 1.02009, 1.02116, 1.01429,\n",
       "       1.02514, 1.02096])"
      ]
     },
     "execution_count": 32,
     "metadata": {},
     "output_type": "execute_result"
    }
   ],
   "source": [
    "preds = rf.predict(X_test_feat)\n",
    "preds"
   ]
  },
  {
   "cell_type": "code",
   "execution_count": 37,
   "id": "9fc57ccf",
   "metadata": {},
   "outputs": [],
   "source": [
    "X = dataset.drop(columns='target',axis=1)\n",
    "y = dataset['target']\n",
    "\n",
    "X_train, X_test, y_train, y_test = train_test_split(X, y, test_size = 0.25, random_state=42)\n",
    "from sklearn.metrics import accuracy_score\n",
    "import xgboost as xgb\n",
    "xgb_cl = xgb.XGBClassifier()\n",
    "xgb_cl.fit(X_train, y_train)\n",
    "preds = xgb_cl.predict(X_test)"
   ]
  },
  {
   "cell_type": "code",
   "execution_count": 38,
   "id": "c91dadd8",
   "metadata": {},
   "outputs": [
    {
     "name": "stdout",
     "output_type": "stream",
     "text": [
      "XGBoost : \n",
      "               precision    recall  f1-score   support\n",
      "\n",
      "           0       0.75      0.75      0.75        12\n",
      "           1       0.62      0.62      0.62         8\n",
      "\n",
      "    accuracy                           0.70        20\n",
      "   macro avg       0.69      0.69      0.69        20\n",
      "weighted avg       0.70      0.70      0.70        20\n",
      "\n",
      "XGBoost Accuracy:  0.7\n"
     ]
    }
   ],
   "source": [
    "print('XGBoost : \\n', classification_report(y_test, preds))\n",
    "print('XGBoost Accuracy: ', accuracy_score(y_test, preds))"
   ]
  },
  {
   "cell_type": "code",
   "execution_count": 39,
   "id": "5a78b052",
   "metadata": {},
   "outputs": [
    {
     "name": "stdout",
     "output_type": "stream",
     "text": [
      "MAE: 0.3\n",
      "MSE: 0.3\n",
      "RMSE: 0.5477225575051661\n"
     ]
    }
   ],
   "source": [
    "print('MAE:', mean_absolute_error(y_test, preds))\n",
    "print('MSE:', mean_squared_error(y_test, preds))\n",
    "print('RMSE:', np.sqrt(mean_squared_error(y_test, preds)))"
   ]
  },
  {
   "cell_type": "code",
   "execution_count": null,
   "id": "ac29d5c9",
   "metadata": {},
   "outputs": [],
   "source": []
  }
 ],
 "metadata": {
  "kernelspec": {
   "display_name": "Python 3 (ipykernel)",
   "language": "python",
   "name": "python3"
  },
  "language_info": {
   "codemirror_mode": {
    "name": "ipython",
    "version": 3
   },
   "file_extension": ".py",
   "mimetype": "text/x-python",
   "name": "python",
   "nbconvert_exporter": "python",
   "pygments_lexer": "ipython3",
   "version": "3.9.12"
  }
 },
 "nbformat": 4,
 "nbformat_minor": 5
}
